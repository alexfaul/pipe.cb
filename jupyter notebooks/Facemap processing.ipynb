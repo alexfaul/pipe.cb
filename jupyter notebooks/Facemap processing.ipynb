{
 "cells": [
  {
   "cell_type": "code",
   "execution_count": 1,
   "metadata": {},
   "outputs": [],
   "source": [
    "##how do I run this automatically? Sent as command from matlab style... look at Arthurs way.. hopefully not javascript\n",
    "\n",
    "import os # os stands for \"operating system\" and includes read/write routines etc. \n",
    "import numpy as np # by far the most used library for everyday computation\n",
    "\n",
    "root='Z://AFdata//2p2019//Sut3//191120_Sut3//' \n",
    "file='Sut3_191120_004'\n",
    "proc   = np.load(os.path.join(root,''.join((file,'_eye_proc.npy'))), allow_pickle=True).item()"
   ]
  },
  {
   "cell_type": "code",
   "execution_count": 2,
   "metadata": {},
   "outputs": [
    {
     "name": "stdout",
     "output_type": "stream",
     "text": [
      "dict_keys(['filenames', 'save_path', 'iframes', 'Ly', 'Lx', 'sbin', 'fullSVD', 'save_mat', 'Lybin', 'Lxbin', 'sybin', 'sxbin', 'LYbin', 'LXbin', 'avgframe', 'avgmotion', 'avgframe_reshape', 'avgmotion_reshape', 'motion', 'motSVD', 'motMask', 'motMask_reshape', 'pupil', 'running', 'blink', 'rois'])\n",
      "(6701, 500)\n"
     ]
    }
   ],
   "source": [
    "print(proc.keys())\n",
    "print(proc['motSVD'][0].shape)\n",
    "#print(parea3.shape)\n",
    "#print(mot2.shape)"
   ]
  },
  {
   "cell_type": "code",
   "execution_count": 3,
   "metadata": {},
   "outputs": [
    {
     "name": "stdout",
     "output_type": "stream",
     "text": [
      "(6701,)\n"
     ]
    }
   ],
   "source": [
    "#motSVD  = proc['motSVD'][1][0:20000].copy()\n",
    "motSVD  = proc['motSVD'][0].copy()\n",
    "motsvd  = motSVD[:,0].copy()\n",
    "parea   = proc['pupil'][0]['area'][0:].copy()\n",
    "print(motsvd.shape)\n",
    "#print(parea.shape)"
   ]
  },
  {
   "cell_type": "code",
   "execution_count": 4,
   "metadata": {},
   "outputs": [],
   "source": [
    "import scipy\n",
    "import pandas as pd # for plotting\n",
    "from scipy import io # this is for importing Matlab data files\n",
    "from scipy import stats # here we import a whole sub-library of stats functions\n",
    "from scipy import signal # for signal processing"
   ]
  },
  {
   "cell_type": "code",
   "execution_count": 5,
   "metadata": {},
   "outputs": [],
   "source": [
    "os.path.join(root,''.join((file,'_eye_area.mat')))\n",
    "\n",
    "scipy.io.savemat(os.path.join(root,''.join((file,'_eye_area.mat'))),{'parea':parea})\n",
    "scipy.io.savemat(os.path.join(root,''.join((file,'_motSVD.mat'))),{'motsvd':motsvd})"
   ]
  },
  {
   "cell_type": "code",
   "execution_count": null,
   "metadata": {},
   "outputs": [],
   "source": []
  }
 ],
 "metadata": {
  "kernelspec": {
   "display_name": "Python 3",
   "language": "python",
   "name": "python3"
  },
  "language_info": {
   "codemirror_mode": {
    "name": "ipython",
    "version": 3
   },
   "file_extension": ".py",
   "mimetype": "text/x-python",
   "name": "python",
   "nbconvert_exporter": "python",
   "pygments_lexer": "ipython3",
   "version": "3.7.1"
  }
 },
 "nbformat": 4,
 "nbformat_minor": 2
}
